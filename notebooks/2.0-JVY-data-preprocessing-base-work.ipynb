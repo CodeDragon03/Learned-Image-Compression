{
 "cells": [
  {
   "cell_type": "code",
   "execution_count": 1,
   "id": "619797b1",
   "metadata": {},
   "outputs": [],
   "source": [
    "import warnings\n",
    "\n",
    "warnings.filterwarnings(\"ignore\")"
   ]
  },
  {
   "cell_type": "code",
   "execution_count": 2,
   "id": "21d9bade",
   "metadata": {},
   "outputs": [],
   "source": [
    "import os\n",
    "import sys\n",
    "\n",
    "MODULE_PATH = os.path.abspath(os.path.join(\"..\", \"src\"))\n",
    "\n",
    "if MODULE_PATH not in sys.path:\n",
    "    sys.path.append(MODULE_PATH)"
   ]
  },
  {
   "cell_type": "code",
   "execution_count": 3,
   "id": "4a115abf",
   "metadata": {},
   "outputs": [
    {
     "name": "stderr",
     "output_type": "stream",
     "text": [
      "\u001b[32m2025-05-20 16:51:09.887\u001b[0m | \u001b[1mINFO    \u001b[0m | \u001b[36mconfig\u001b[0m:\u001b[36m<module>\u001b[0m:\u001b[36m11\u001b[0m - \u001b[1mPROJ_ROOT path is: /home/code-dragon-03/Desktop/High Priority/Research Work/Learned-Image-Compression\u001b[0m\n"
     ]
    }
   ],
   "source": [
    "import numpy as np\n",
    "from PIL import Image\n",
    "from tqdm import tqdm\n",
    "\n",
    "from natsort import natsorted\n",
    "\n",
    "from config import EXTERNAL_DATA_DIR, INTERIM_DATA_DIR # type: ignore"
   ]
  },
  {
   "cell_type": "code",
   "execution_count": 4,
   "id": "97f949ae",
   "metadata": {},
   "outputs": [],
   "source": [
    "DATA_PATH = os.path.join(EXTERNAL_DATA_DIR, \"kodak\")\n",
    "\n",
    "INTERIM_DATA_PATH = os.path.join(INTERIM_DATA_DIR, \"kodak\")"
   ]
  },
  {
   "cell_type": "code",
   "execution_count": 5,
   "id": "6ca9ff48",
   "metadata": {},
   "outputs": [
    {
     "name": "stdout",
     "output_type": "stream",
     "text": [
      "The total number of images are: 24.\n"
     ]
    }
   ],
   "source": [
    "images = [img for img in os.listdir(DATA_PATH) if img.endswith('.png') or img.endswith('.jpg')]\n",
    "\n",
    "images = natsorted(images)\n",
    "\n",
    "images = images\n",
    "\n",
    "print(f'The total number of images are: {len(images)}.')"
   ]
  },
  {
   "cell_type": "code",
   "execution_count": 6,
   "id": "d6f4fe63",
   "metadata": {},
   "outputs": [
    {
     "name": "stdout",
     "output_type": "stream",
     "text": [
      "--------------------------------------------------\n",
      "The shape of the images in the Kodak dataset are:\n",
      "--------------------------------------------------\n",
      "\n",
      "kodim01.png:(512, 768, 3) | kodim02.png:(512, 768, 3) | kodim03.png:(512, 768, 3) | kodim04.png:(768, 512, 3) | kodim05.png:(512, 768, 3) | kodim06.png:(512, 768, 3) | kodim07.png:(512, 768, 3) | kodim08.png:(512, 768, 3) | kodim09.png:(768, 512, 3) | kodim10.png:(768, 512, 3) | kodim11.png:(512, 768, 3) | kodim12.png:(512, 768, 3) | kodim13.png:(512, 768, 3) | kodim14.png:(512, 768, 3) | kodim15.png:(512, 768, 3) | kodim16.png:(512, 768, 3) | kodim17.png:(768, 512, 3) | kodim18.png:(768, 512, 3) | kodim19.png:(768, 512, 3) | kodim20.png:(512, 768, 3) | kodim21.png:(512, 768, 3) | kodim22.png:(512, 768, 3) | kodim23.png:(512, 768, 3) | kodim24.png:(512, 768, 3) | "
     ]
    }
   ],
   "source": [
    "print('-'*50)\n",
    "print('The shape of the images in the Kodak dataset are:')\n",
    "print('-'*50, end='\\n\\n')\n",
    "\n",
    "for img in images:\n",
    "    image = Image.open(os.path.join(DATA_PATH, img))\n",
    "    image = np.array(image)\n",
    "    print(f'{img}:{image.shape}', end=' | ')"
   ]
  },
  {
   "cell_type": "code",
   "execution_count": 7,
   "id": "d060ba84",
   "metadata": {},
   "outputs": [],
   "source": [
    "if not os.path.exists(INTERIM_DATA_PATH):\n",
    "    os.makedirs(INTERIM_DATA_PATH)"
   ]
  },
  {
   "cell_type": "code",
   "execution_count": 8,
   "id": "6ab677f9",
   "metadata": {},
   "outputs": [
    {
     "name": "stderr",
     "output_type": "stream",
     "text": [
      "Processing images: 100%|██████████| 24/24 [00:02<00:00, 11.86it/s]\n"
     ]
    }
   ],
   "source": [
    "for img in tqdm(natsorted(os.listdir(DATA_PATH)), desc=\"Processing images\"):\n",
    "    image = Image.open(os.path.join(DATA_PATH, img))\n",
    "    image = np.array(image)\n",
    "    image = np.clip(image, 0, 255).astype(np.uint8)\n",
    "    image = Image.fromarray(image)\n",
    "    image = image.resize((256, 256))\n",
    "    image = image.convert('RGB')\n",
    "    image.save(os.path.join(INTERIM_DATA_PATH, img))"
   ]
  },
  {
   "cell_type": "code",
   "execution_count": 9,
   "id": "d0df1bfc",
   "metadata": {},
   "outputs": [
    {
     "name": "stdout",
     "output_type": "stream",
     "text": [
      "-----------------------------------------------------------------\n",
      "The shape of the images after processing in the Kodak dataset are:\n",
      "-----------------------------------------------------------------\n",
      "\n",
      "kodim01.png:(256, 256, 3) | kodim02.png:(256, 256, 3) | kodim03.png:(256, 256, 3) | kodim04.png:(256, 256, 3) | kodim05.png:(256, 256, 3) | kodim06.png:(256, 256, 3) | kodim07.png:(256, 256, 3) | kodim08.png:(256, 256, 3) | kodim09.png:(256, 256, 3) | kodim10.png:(256, 256, 3) | kodim11.png:(256, 256, 3) | kodim12.png:(256, 256, 3) | kodim13.png:(256, 256, 3) | kodim14.png:(256, 256, 3) | kodim15.png:(256, 256, 3) | kodim16.png:(256, 256, 3) | kodim17.png:(256, 256, 3) | kodim18.png:(256, 256, 3) | kodim19.png:(256, 256, 3) | kodim20.png:(256, 256, 3) | kodim21.png:(256, 256, 3) | kodim22.png:(256, 256, 3) | kodim23.png:(256, 256, 3) | kodim24.png:(256, 256, 3) | "
     ]
    }
   ],
   "source": [
    "print('-'*65)\n",
    "print('The shape of the images after processing in the Kodak dataset are:')\n",
    "print('-'*65, end='\\n\\n')\n",
    "\n",
    "for img in images:\n",
    "    image = Image.open(os.path.join(INTERIM_DATA_PATH, img))\n",
    "    image = np.array(image)\n",
    "    print(f'{img}:{image.shape}', end=' | ')"
   ]
  }
 ],
 "metadata": {
  "kernelspec": {
   "display_name": "Learned-Image-Compression",
   "language": "python",
   "name": "python3"
  },
  "language_info": {
   "codemirror_mode": {
    "name": "ipython",
    "version": 3
   },
   "file_extension": ".py",
   "mimetype": "text/x-python",
   "name": "python",
   "nbconvert_exporter": "python",
   "pygments_lexer": "ipython3",
   "version": "3.12.9"
  }
 },
 "nbformat": 4,
 "nbformat_minor": 5
}
