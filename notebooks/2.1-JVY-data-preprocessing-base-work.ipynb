{
 "cells": [
  {
   "cell_type": "code",
   "execution_count": null,
   "id": "619797b1",
   "metadata": {},
   "outputs": [],
   "source": [
    "import warnings\n",
    "\n",
    "warnings.filterwarnings(\"ignore\")"
   ]
  },
  {
   "cell_type": "code",
   "execution_count": null,
   "id": "21d9bade",
   "metadata": {},
   "outputs": [],
   "source": [
    "import os\n",
    "import sys\n",
    "\n",
    "MODULE_PATH = os.path.abspath(os.path.join(\"..\", \"src\"))\n",
    "\n",
    "if MODULE_PATH not in sys.path:\n",
    "    sys.path.append(MODULE_PATH)"
   ]
  },
  {
   "cell_type": "code",
   "execution_count": null,
   "id": "4a115abf",
   "metadata": {},
   "outputs": [],
   "source": [
    "import numpy as np\n",
    "from PIL import Image\n",
    "from tqdm import tqdm\n",
    "\n",
    "from natsort import natsorted\n",
    "\n",
    "import torch\n",
    "import torch.nn.functional as F\n",
    "from torchvision import transforms\n",
    "\n",
    "from config import EXTERNAL_DATA_DIR, INTERIM_DATA_DIR, PROCESSED_DATA_DIR, PATCH_SIZE # type: ignore"
   ]
  },
  {
   "cell_type": "code",
   "execution_count": null,
   "id": "97f949ae",
   "metadata": {},
   "outputs": [],
   "source": [
    "DATA_PATH = os.path.join(EXTERNAL_DATA_DIR, \"kodak\")\n",
    "\n",
    "INTERIM_DATA_PATH = os.path.join(INTERIM_DATA_DIR, \"kodak\")\n",
    "\n",
    "PROCESSED_DATA_PATH = os.path.join(PROCESSED_DATA_DIR, \"kodak\")"
   ]
  },
  {
   "cell_type": "code",
   "execution_count": null,
   "id": "6ca9ff48",
   "metadata": {},
   "outputs": [],
   "source": [
    "images = [img for img in os.listdir(INTERIM_DATA_PATH) if img.endswith('.png') or img.endswith('.jpg')]\n",
    "\n",
    "images = natsorted(images)\n",
    "\n",
    "images = images\n",
    "\n",
    "print(f'The total number of images are: {len(images)}.')"
   ]
  },
  {
   "cell_type": "code",
   "execution_count": null,
   "id": "0b7615db",
   "metadata": {},
   "outputs": [],
   "source": [
    "print('-'*50)\n",
    "print('The shape of the images in the Kodak dataset are:')\n",
    "print('-'*50, end='\\n\\n')\n",
    "\n",
    "for img in images:\n",
    "    image = Image.open(os.path.join(DATA_PATH, img))\n",
    "    image = np.array(image)\n",
    "    print(f'{img}:{image.shape}', end=' | ')"
   ]
  },
  {
   "cell_type": "code",
   "execution_count": null,
   "id": "e5181fac",
   "metadata": {},
   "outputs": [],
   "source": [
    "if not os.path.exists(INTERIM_DATA_PATH):\n",
    "    os.makedirs(INTERIM_DATA_PATH)"
   ]
  },
  {
   "cell_type": "code",
   "execution_count": null,
   "id": "cc18ddf9",
   "metadata": {},
   "outputs": [],
   "source": [
    "for img in tqdm(natsorted(os.listdir(DATA_PATH)), desc=\"Processing images\"):\n",
    "    image = Image.open(os.path.join(DATA_PATH, img))\n",
    "    image = np.array(image)\n",
    "    image = np.clip(image, 0, 255).astype(np.uint8)\n",
    "    image = Image.fromarray(image)\n",
    "    image = image.resize((256, 256))\n",
    "    image = image.convert('RGB')\n",
    "    image.save(os.path.join(INTERIM_DATA_PATH, img))"
   ]
  },
  {
   "cell_type": "code",
   "execution_count": null,
   "id": "d6f4fe63",
   "metadata": {},
   "outputs": [],
   "source": [
    "print('-'*50)\n",
    "print('The shape of the Semi-Processed images in the Kodak dataset are:')\n",
    "print('-'*50, end='\\n\\n')\n",
    "\n",
    "for img in images:\n",
    "    image = Image.open(os.path.join(INTERIM_DATA_PATH, img))\n",
    "    image = np.array(image)\n",
    "    print(f'{img}:{image.shape}', end=' | ')"
   ]
  },
  {
   "cell_type": "code",
   "execution_count": null,
   "id": "d060ba84",
   "metadata": {},
   "outputs": [],
   "source": [
    "if not os.path.exists(PROCESSED_DATA_PATH):\n",
    "    os.makedirs(PROCESSED_DATA_PATH)"
   ]
  },
  {
   "cell_type": "code",
   "execution_count": null,
   "id": "d6e13500",
   "metadata": {},
   "outputs": [],
   "source": [
    "PATCH_OUTPUT_DIR = os.path.join(PROCESSED_DATA_DIR, 'patches')\n",
    "\n",
    "if not os.path.exists(PATCH_OUTPUT_DIR):\n",
    "    os.makedirs(PATCH_OUTPUT_DIR)"
   ]
  },
  {
   "cell_type": "code",
   "execution_count": null,
   "id": "6ab677f9",
   "metadata": {},
   "outputs": [],
   "source": [
    "for img in tqdm(natsorted(os.listdir(INTERIM_DATA_PATH)), desc=\"Final Copy of Processed Images\"):\n",
    "    if img.endswith('.png') or img.endswith('.jpg'):\n",
    "        image = Image.open(os.path.join(INTERIM_DATA_PATH, img))\n",
    "        image.save(os.path.join(PROCESSED_DATA_PATH, img))"
   ]
  },
  {
   "cell_type": "code",
   "execution_count": null,
   "id": "d0df1bfc",
   "metadata": {},
   "outputs": [],
   "source": [
    "for img in tqdm(natsorted(os.listdir(INTERIM_DATA_PATH)), desc=\"Extracting and Saving Patches\"):\n",
    "\n",
    "    # Load and convert the image\n",
    "    if img.endswith('.png') or img.endswith('.jpg'):\n",
    "        image = Image.open(os.path.join(INTERIM_DATA_PATH, img))\n",
    "        image = image.convert('RGB')\n",
    "        tensor = transforms.ToTensor()(image)\n",
    "        tensor = tensor.unsqueeze(0)\n",
    "        B, C, H, W = tensor.shape\n",
    "\n",
    "        # Extract patches\n",
    "        patches = F.unfold(tensor, PATCH_SIZE, 4)\n",
    "        patches = patches.transpose(1, 2).contiguous()\n",
    "        patches = patches.view(B, -1, C, PATCH_SIZE * PATCH_SIZE)\n",
    "        patches = patches.squeeze(0)\n",
    "\n",
    "        # Create folders to save patches\n",
    "        folder = os.path.join(PATCH_OUTPUT_DIR, img)\n",
    "        os.makedirs(folder, exist_ok=True)\n",
    "\n",
    "        # Save patches\n",
    "        for i, patch in enumerate(patches):\n",
    "            patch = transforms.ToPILImage()(patch)\n",
    "            patch.save(os.path.join(folder, f'patch-{i}.png'))"
   ]
  }
 ],
 "metadata": {
  "kernelspec": {
   "display_name": "Learned-Image-Compression",
   "language": "python",
   "name": "python3"
  },
  "language_info": {
   "codemirror_mode": {
    "name": "ipython",
    "version": 3
   },
   "file_extension": ".py",
   "mimetype": "text/x-python",
   "name": "python",
   "nbconvert_exporter": "python",
   "pygments_lexer": "ipython3",
   "version": "3.12.9"
  }
 },
 "nbformat": 4,
 "nbformat_minor": 5
}
