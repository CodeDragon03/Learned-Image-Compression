{
 "cells": [
  {
   "cell_type": "code",
   "execution_count": 1,
   "id": "2d5daa27",
   "metadata": {},
   "outputs": [],
   "source": [
    "import warnings\n",
    "\n",
    "warnings.filterwarnings(\"ignore\")"
   ]
  },
  {
   "cell_type": "code",
   "execution_count": 2,
   "metadata": {},
   "outputs": [],
   "source": [
    "%matplotlib inline"
   ]
  },
  {
   "cell_type": "code",
   "execution_count": 3,
   "id": "ae539885",
   "metadata": {},
   "outputs": [],
   "source": [
    "import os\n",
    "import sys\n",
    "\n",
    "MODULE_PATH = os.path.abspath(os.path.join(\"..\", \"src\"))\n",
    "\n",
    "if MODULE_PATH not in sys.path:\n",
    "    sys.path.append(MODULE_PATH)"
   ]
  },
  {
   "cell_type": "code",
   "execution_count": null,
   "metadata": {},
   "outputs": [
    {
     "name": "stderr",
     "output_type": "stream",
     "text": [
      "\u001b[32m2025-05-23 14:28:11.616\u001b[0m | \u001b[1mINFO    \u001b[0m | \u001b[36mconfig\u001b[0m:\u001b[36m<module>\u001b[0m:\u001b[36m11\u001b[0m - \u001b[1mPROJ_ROOT path is: /home/code-dragon-03/Desktop/High Priority/Research Work/Learned-Image-Compression\u001b[0m\n"
     ]
    }
   ],
   "source": [
    "import math\n",
    "\n",
    "import numpy as np\n",
    "import pandas as pd\n",
    "import matplotlib.pyplot as plt\n",
    "\n",
    "from PIL import Image\n",
    "from natsort import natsorted\n",
    "\n",
    "from patchify import patchify\n",
    "\n",
    "import scipy\n",
    "\n",
    "import torch\n",
    "import torch.nn as nn\n",
    "import torch.optim as optim\n",
    "import torch.nn.functional as F\n",
    "from torch.utils.data import Dataset, DataLoader\n",
    "\n",
    "import torchvision\n",
    "from torchvision import transforms\n",
    "\n",
    "from config import PATCH_SIZE, PATCH_STEP, IMAGE_CHANNELS"
   ]
  },
  {
   "cell_type": "code",
   "execution_count": null,
   "id": "27081423",
   "metadata": {},
   "outputs": [],
   "source": [
    "if torch.cuda.is_available():\n",
    "    device = torch.device(\"cuda:0\")\n",
    "    print(f'Using GPU: {device}')\n",
    "else:   \n",
    "    device = torch.device(\"cpu\")\n",
    "    print(\"Using CPU\")  "
   ]
  },
  {
   "cell_type": "code",
   "execution_count": null,
   "id": "17b83d03",
   "metadata": {},
   "outputs": [],
   "source": [
    "class KodakDataset(Dataset):\n",
    "    def __init__(self, root, transform=None, patches=False):\n",
    "        self.root = root\n",
    "        self.transform = transform\n",
    "        self.patches = patches\n",
    "        self.images = natsorted(os.listdir(root))\n",
    "        self.images = [os.path.join(root, img) for img in self.images if img.endswith('.png') or img.endswith('.jpg')]\n",
    "\n",
    "    def __len__(self):        \n",
    "        return len(self.images)\n",
    "\n",
    "    def __getitem__(self, idx):\n",
    "        IMG_PATH = self.images[idx]\n",
    "        image = Image.open(IMG_PATH)\n",
    "        if self.transform:\n",
    "            image = self.transform(image)\n",
    "        if self.patches:\n",
    "            img = np.array(image)\n",
    "            if img.ndim == 2:\n",
    "                img = img[..., np.newaxis]\n",
    "            patches = patchify(img, (PATCH_SIZE, PATCH_SIZE, IMAGE_CHANNELS), step=PATCH_STEP)\n",
    "            return image, patches\n",
    "        return image"
   ]
  }
 ],
 "metadata": {
  "kernelspec": {
   "display_name": "Learned-Image-Compression",
   "language": "python",
   "name": "python3"
  },
  "language_info": {
   "codemirror_mode": {
    "name": "ipython",
    "version": 3
   },
   "file_extension": ".py",
   "mimetype": "text/x-python",
   "name": "python",
   "nbconvert_exporter": "python",
   "pygments_lexer": "ipython3",
   "version": "3.12.9"
  }
 },
 "nbformat": 4,
 "nbformat_minor": 5
}
