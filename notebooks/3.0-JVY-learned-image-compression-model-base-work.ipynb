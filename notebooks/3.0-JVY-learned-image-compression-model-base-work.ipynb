{
 "cells": [
  {
   "cell_type": "code",
   "execution_count": 1,
   "id": "206093d0",
   "metadata": {},
   "outputs": [],
   "source": [
    "import warnings\n",
    "\n",
    "warnings.filterwarnings(\"ignore\")"
   ]
  },
  {
   "cell_type": "code",
   "execution_count": 2,
   "metadata": {},
   "outputs": [],
   "source": [
    "%matplotlib inline"
   ]
  },
  {
   "cell_type": "code",
   "execution_count": 3,
   "id": "61f7cc46",
   "metadata": {},
   "outputs": [],
   "source": [
    "import os\n",
    "import sys\n",
    "\n",
    "module_path = os.path.abspath(os.path.join(\"..\", \"src\"))\n",
    "\n",
    "if module_path not in sys.path:\n",
    "    sys.path.append(module_path)"
   ]
  },
  {
   "cell_type": "code",
   "execution_count": 4,
   "metadata": {},
   "outputs": [],
   "source": [
    "import math\n",
    "\n",
    "import numpy as np\n",
    "import pandas as pd\n",
    "import matplotlib.pyplot as plt\n",
    "\n",
    "from PIL import Image\n",
    "from natsort import natsorted\n",
    "\n",
    "import scipy\n",
    "\n",
    "import torch\n",
    "import torch.nn as nn\n",
    "from torch.optim import Adam\n",
    "from torch.nn.init import kaiming_normal_ as HeNormal\n",
    "from torch.utils.data import Dataset, DataLoader\n",
    "\n",
    "import torchvision\n",
    "from torchvision import transforms\n"
   ]
  },
  {
   "cell_type": "code",
   "execution_count": 5,
   "id": "b506b7fb",
   "metadata": {},
   "outputs": [
    {
     "name": "stdout",
     "output_type": "stream",
     "text": [
      "Using GPU: cuda:0\n"
     ]
    }
   ],
   "source": [
    "if torch.cuda.is_available():\n",
    "    device = torch.device(\"cuda:0\")\n",
    "    print(f'Using GPU: {device}')\n",
    "else:   \n",
    "    device = torch.device(\"cpu\")\n",
    "    print(\"Using CPU\")  "
   ]
  },
  {
   "cell_type": "markdown",
   "id": "25d0406d",
   "metadata": {},
   "source": [
    "## Kodak Dataset"
   ]
  },
  {
   "cell_type": "code",
   "execution_count": null,
   "metadata": {},
   "outputs": [],
   "source": []
  },
  {
   "cell_type": "markdown",
   "id": "a2cf5b61",
   "metadata": {},
   "source": [
    "## Non-Local Attention"
   ]
  },
  {
   "cell_type": "code",
   "execution_count": null,
   "id": "625369ad",
   "metadata": {},
   "outputs": [],
   "source": []
  },
  {
   "cell_type": "markdown",
   "id": "9d938518",
   "metadata": {},
   "source": [
    "## Masking"
   ]
  },
  {
   "cell_type": "code",
   "execution_count": null,
   "id": "37442f44",
   "metadata": {},
   "outputs": [],
   "source": []
  },
  {
   "cell_type": "markdown",
   "id": "b26aa6f0",
   "metadata": {},
   "source": [
    "## Resudial Block"
   ]
  },
  {
   "cell_type": "code",
   "execution_count": null,
   "id": "ac906044",
   "metadata": {},
   "outputs": [],
   "source": []
  },
  {
   "cell_type": "markdown",
   "id": "b9114d2b",
   "metadata": {},
   "source": [
    "## Analysis Transform"
   ]
  },
  {
   "cell_type": "code",
   "execution_count": null,
   "metadata": {},
   "outputs": [],
   "source": []
  },
  {
   "cell_type": "markdown",
   "id": "1f58a522",
   "metadata": {},
   "source": [
    "## Analysis Encoder"
   ]
  },
  {
   "cell_type": "code",
   "execution_count": null,
   "metadata": {},
   "outputs": [],
   "source": []
  },
  {
   "cell_type": "markdown",
   "id": "4a9a7d00",
   "metadata": {},
   "source": [
    "## Gaussain Mixture Model "
   ]
  },
  {
   "cell_type": "code",
   "execution_count": null,
   "metadata": {},
   "outputs": [],
   "source": []
  },
  {
   "cell_type": "markdown",
   "id": "fb92434b",
   "metadata": {},
   "source": [
    "## Synthesis Decoder"
   ]
  },
  {
   "cell_type": "code",
   "execution_count": null,
   "id": "aead1e83",
   "metadata": {},
   "outputs": [],
   "source": []
  },
  {
   "cell_type": "markdown",
   "id": "e81a61b3",
   "metadata": {},
   "source": [
    "## Synthesis Transform"
   ]
  },
  {
   "cell_type": "code",
   "execution_count": null,
   "id": "7619d199",
   "metadata": {},
   "outputs": [],
   "source": []
  },
  {
   "cell_type": "markdown",
   "id": "d5537731",
   "metadata": {},
   "source": [
    "## Mean Squared Structural Similarity Index Measure `ms-ssim` "
   ]
  },
  {
   "cell_type": "code",
   "execution_count": null,
   "id": "6eeb747f",
   "metadata": {},
   "outputs": [],
   "source": []
  },
  {
   "cell_type": "markdown",
   "id": "b9c09f60",
   "metadata": {},
   "source": [
    "## Peak Noise to Signal Ratio `PSNR`"
   ]
  },
  {
   "cell_type": "code",
   "execution_count": null,
   "id": "8d795cf0",
   "metadata": {},
   "outputs": [],
   "source": []
  },
  {
   "cell_type": "markdown",
   "id": "ddc0556c",
   "metadata": {},
   "source": [
    "## Image Compression Model"
   ]
  },
  {
   "cell_type": "code",
   "execution_count": null,
   "id": "dca639cf",
   "metadata": {},
   "outputs": [],
   "source": []
  },
  {
   "cell_type": "markdown",
   "id": "352002df",
   "metadata": {},
   "source": [
    "## Image Decompression Model"
   ]
  },
  {
   "cell_type": "code",
   "execution_count": null,
   "id": "57583d39",
   "metadata": {},
   "outputs": [],
   "source": []
  },
  {
   "cell_type": "markdown",
   "id": "700398aa",
   "metadata": {},
   "source": [
    "## Evalulation"
   ]
  },
  {
   "cell_type": "code",
   "execution_count": null,
   "id": "428552d2",
   "metadata": {},
   "outputs": [],
   "source": []
  },
  {
   "cell_type": "markdown",
   "id": "1adead29",
   "metadata": {},
   "source": [
    "## Plotting Results"
   ]
  },
  {
   "cell_type": "code",
   "execution_count": null,
   "id": "aaff7238",
   "metadata": {},
   "outputs": [],
   "source": []
  }
 ],
 "metadata": {
  "kernelspec": {
   "display_name": "Learned-Image-Compression",
   "language": "python",
   "name": "python3"
  },
  "language_info": {
   "codemirror_mode": {
    "name": "ipython",
    "version": 3
   },
   "file_extension": ".py",
   "mimetype": "text/x-python",
   "name": "python",
   "nbconvert_exporter": "python",
   "pygments_lexer": "ipython3",
   "version": "3.12.9"
  }
 },
 "nbformat": 4,
 "nbformat_minor": 5
}
